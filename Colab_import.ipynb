{
  "cells": [
    {
      "cell_type": "code",
      "execution_count": 32,
      "metadata": {
        "colab": {
          "base_uri": "https://localhost:8080/",
          "height": 150
        },
        "id": "Jp-BsSQOELWd",
        "outputId": "2f9bbda7-8e76-4d51-ca98-8c003826f563"
      },
      "outputs": [
        {
          "data": {
            "text/plain": [
              "\"from google.colab import files\\n\\n# Create a directory\\ndirectory_name = 'cartoonset10k'\\nos.makedirs(directory_name, exist_ok=True)\\n\\n# Change the current working directory to the newly created directory\\nos.chdir(directory_name)\\n\\n# Upload files\\nuploaded_files = files.upload()\""
            ]
          },
          "execution_count": 32,
          "metadata": {},
          "output_type": "execute_result"
        }
      ],
      "source": [
        "import os\n",
        "from google.colab import files\n",
        "\n",
        "# Create a directory\n",
        "directory_name = 'cartoonset10k'\n",
        "os.makedirs(directory_name, exist_ok=True)\n",
        "\n",
        "# Change the current working directory to the newly created directory\n",
        "os.chdir(directory_name)\n",
        "\n",
        "# Upload files\n",
        "uploaded_files = files.upload()"
      ]
    }
  ],
  "metadata": {
    "colab": {
      "provenance": []
    },
    "kernelspec": {
      "display_name": "Python 3",
      "name": "python3"
    },
    "language_info": {
      "codemirror_mode": {
        "name": "ipython",
        "version": 3
      },
      "file_extension": ".py",
      "mimetype": "text/x-python",
      "name": "python",
      "nbconvert_exporter": "python",
      "pygments_lexer": "ipython3",
      "version": "3.10.9"
    }
  },
  "nbformat": 4,
  "nbformat_minor": 0
}
